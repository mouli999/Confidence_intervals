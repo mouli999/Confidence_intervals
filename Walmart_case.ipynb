{
  "nbformat": 4,
  "nbformat_minor": 0,
  "metadata": {
    "colab": {
      "provenance": []
    },
    "kernelspec": {
      "name": "python3",
      "display_name": "Python 3"
    },
    "language_info": {
      "name": "python"
    }
  },
  "cells": [
    {
      "cell_type": "code",
      "execution_count": null,
      "metadata": {
        "id": "Nm0zbQJJxTcc"
      },
      "outputs": [],
      "source": [
        "import numpy as np\n",
        "import pandas as pd\n",
        "import matplotlib.pyplot as plt\n",
        "import seaborn as sns\n",
        "import math"
      ]
    },
    {
      "cell_type": "code",
      "source": [
        "walmart_df=pd.read_excel('/content/drive/MyDrive/Colab Notebooks/DS & ML/Projects/Walmart-CLT&Confidence level/walmart case.xlsx')"
      ],
      "metadata": {
        "id": "8goghOtNxfML"
      },
      "execution_count": null,
      "outputs": []
    },
    {
      "cell_type": "code",
      "source": [
        "walmart_df.head()"
      ],
      "metadata": {
        "colab": {
          "base_uri": "https://localhost:8080/",
          "height": 206
        },
        "id": "z1V-e-lEx0w1",
        "outputId": "5dfa8240-374e-4343-90b6-7eb5814a41a3"
      },
      "execution_count": null,
      "outputs": [
        {
          "output_type": "execute_result",
          "data": {
            "text/plain": [
              "   User_ID Product_ID Gender   Age  Occupation City_Category  \\\n",
              "0  1000001  P00069042      F  0-17        10.0             A   \n",
              "1  1000001  P00248942      F  0-17        10.0             A   \n",
              "2  1000001  P00087842      F  0-17        10.0             A   \n",
              "3  1000001  P00085442      F  0-17        10.0             A   \n",
              "4  1000002  P00285442      M   55+        16.0             C   \n",
              "\n",
              "  Stay_In_Current_City_Years  Marital_Status  Product_Category  Purchase  \n",
              "0                          2             0.0               3.0    8370.0  \n",
              "1                          2             0.0               1.0   15200.0  \n",
              "2                          2             0.0              12.0    1422.0  \n",
              "3                          2             0.0              12.0    1057.0  \n",
              "4                         4+             0.0               8.0    7969.0  "
            ],
            "text/html": [
              "\n",
              "  <div id=\"df-87117f5a-e0bf-4594-97b4-c9414a71e214\">\n",
              "    <div class=\"colab-df-container\">\n",
              "      <div>\n",
              "<style scoped>\n",
              "    .dataframe tbody tr th:only-of-type {\n",
              "        vertical-align: middle;\n",
              "    }\n",
              "\n",
              "    .dataframe tbody tr th {\n",
              "        vertical-align: top;\n",
              "    }\n",
              "\n",
              "    .dataframe thead th {\n",
              "        text-align: right;\n",
              "    }\n",
              "</style>\n",
              "<table border=\"1\" class=\"dataframe\">\n",
              "  <thead>\n",
              "    <tr style=\"text-align: right;\">\n",
              "      <th></th>\n",
              "      <th>User_ID</th>\n",
              "      <th>Product_ID</th>\n",
              "      <th>Gender</th>\n",
              "      <th>Age</th>\n",
              "      <th>Occupation</th>\n",
              "      <th>City_Category</th>\n",
              "      <th>Stay_In_Current_City_Years</th>\n",
              "      <th>Marital_Status</th>\n",
              "      <th>Product_Category</th>\n",
              "      <th>Purchase</th>\n",
              "    </tr>\n",
              "  </thead>\n",
              "  <tbody>\n",
              "    <tr>\n",
              "      <th>0</th>\n",
              "      <td>1000001</td>\n",
              "      <td>P00069042</td>\n",
              "      <td>F</td>\n",
              "      <td>0-17</td>\n",
              "      <td>10.0</td>\n",
              "      <td>A</td>\n",
              "      <td>2</td>\n",
              "      <td>0.0</td>\n",
              "      <td>3.0</td>\n",
              "      <td>8370.0</td>\n",
              "    </tr>\n",
              "    <tr>\n",
              "      <th>1</th>\n",
              "      <td>1000001</td>\n",
              "      <td>P00248942</td>\n",
              "      <td>F</td>\n",
              "      <td>0-17</td>\n",
              "      <td>10.0</td>\n",
              "      <td>A</td>\n",
              "      <td>2</td>\n",
              "      <td>0.0</td>\n",
              "      <td>1.0</td>\n",
              "      <td>15200.0</td>\n",
              "    </tr>\n",
              "    <tr>\n",
              "      <th>2</th>\n",
              "      <td>1000001</td>\n",
              "      <td>P00087842</td>\n",
              "      <td>F</td>\n",
              "      <td>0-17</td>\n",
              "      <td>10.0</td>\n",
              "      <td>A</td>\n",
              "      <td>2</td>\n",
              "      <td>0.0</td>\n",
              "      <td>12.0</td>\n",
              "      <td>1422.0</td>\n",
              "    </tr>\n",
              "    <tr>\n",
              "      <th>3</th>\n",
              "      <td>1000001</td>\n",
              "      <td>P00085442</td>\n",
              "      <td>F</td>\n",
              "      <td>0-17</td>\n",
              "      <td>10.0</td>\n",
              "      <td>A</td>\n",
              "      <td>2</td>\n",
              "      <td>0.0</td>\n",
              "      <td>12.0</td>\n",
              "      <td>1057.0</td>\n",
              "    </tr>\n",
              "    <tr>\n",
              "      <th>4</th>\n",
              "      <td>1000002</td>\n",
              "      <td>P00285442</td>\n",
              "      <td>M</td>\n",
              "      <td>55+</td>\n",
              "      <td>16.0</td>\n",
              "      <td>C</td>\n",
              "      <td>4+</td>\n",
              "      <td>0.0</td>\n",
              "      <td>8.0</td>\n",
              "      <td>7969.0</td>\n",
              "    </tr>\n",
              "  </tbody>\n",
              "</table>\n",
              "</div>\n",
              "      <button class=\"colab-df-convert\" onclick=\"convertToInteractive('df-87117f5a-e0bf-4594-97b4-c9414a71e214')\"\n",
              "              title=\"Convert this dataframe to an interactive table.\"\n",
              "              style=\"display:none;\">\n",
              "        \n",
              "  <svg xmlns=\"http://www.w3.org/2000/svg\" height=\"24px\"viewBox=\"0 0 24 24\"\n",
              "       width=\"24px\">\n",
              "    <path d=\"M0 0h24v24H0V0z\" fill=\"none\"/>\n",
              "    <path d=\"M18.56 5.44l.94 2.06.94-2.06 2.06-.94-2.06-.94-.94-2.06-.94 2.06-2.06.94zm-11 1L8.5 8.5l.94-2.06 2.06-.94-2.06-.94L8.5 2.5l-.94 2.06-2.06.94zm10 10l.94 2.06.94-2.06 2.06-.94-2.06-.94-.94-2.06-.94 2.06-2.06.94z\"/><path d=\"M17.41 7.96l-1.37-1.37c-.4-.4-.92-.59-1.43-.59-.52 0-1.04.2-1.43.59L10.3 9.45l-7.72 7.72c-.78.78-.78 2.05 0 2.83L4 21.41c.39.39.9.59 1.41.59.51 0 1.02-.2 1.41-.59l7.78-7.78 2.81-2.81c.8-.78.8-2.07 0-2.86zM5.41 20L4 18.59l7.72-7.72 1.47 1.35L5.41 20z\"/>\n",
              "  </svg>\n",
              "      </button>\n",
              "      \n",
              "  <style>\n",
              "    .colab-df-container {\n",
              "      display:flex;\n",
              "      flex-wrap:wrap;\n",
              "      gap: 12px;\n",
              "    }\n",
              "\n",
              "    .colab-df-convert {\n",
              "      background-color: #E8F0FE;\n",
              "      border: none;\n",
              "      border-radius: 50%;\n",
              "      cursor: pointer;\n",
              "      display: none;\n",
              "      fill: #1967D2;\n",
              "      height: 32px;\n",
              "      padding: 0 0 0 0;\n",
              "      width: 32px;\n",
              "    }\n",
              "\n",
              "    .colab-df-convert:hover {\n",
              "      background-color: #E2EBFA;\n",
              "      box-shadow: 0px 1px 2px rgba(60, 64, 67, 0.3), 0px 1px 3px 1px rgba(60, 64, 67, 0.15);\n",
              "      fill: #174EA6;\n",
              "    }\n",
              "\n",
              "    [theme=dark] .colab-df-convert {\n",
              "      background-color: #3B4455;\n",
              "      fill: #D2E3FC;\n",
              "    }\n",
              "\n",
              "    [theme=dark] .colab-df-convert:hover {\n",
              "      background-color: #434B5C;\n",
              "      box-shadow: 0px 1px 3px 1px rgba(0, 0, 0, 0.15);\n",
              "      filter: drop-shadow(0px 1px 2px rgba(0, 0, 0, 0.3));\n",
              "      fill: #FFFFFF;\n",
              "    }\n",
              "  </style>\n",
              "\n",
              "      <script>\n",
              "        const buttonEl =\n",
              "          document.querySelector('#df-87117f5a-e0bf-4594-97b4-c9414a71e214 button.colab-df-convert');\n",
              "        buttonEl.style.display =\n",
              "          google.colab.kernel.accessAllowed ? 'block' : 'none';\n",
              "\n",
              "        async function convertToInteractive(key) {\n",
              "          const element = document.querySelector('#df-87117f5a-e0bf-4594-97b4-c9414a71e214');\n",
              "          const dataTable =\n",
              "            await google.colab.kernel.invokeFunction('convertToInteractive',\n",
              "                                                     [key], {});\n",
              "          if (!dataTable) return;\n",
              "\n",
              "          const docLinkHtml = 'Like what you see? Visit the ' +\n",
              "            '<a target=\"_blank\" href=https://colab.research.google.com/notebooks/data_table.ipynb>data table notebook</a>'\n",
              "            + ' to learn more about interactive tables.';\n",
              "          element.innerHTML = '';\n",
              "          dataTable['output_type'] = 'display_data';\n",
              "          await google.colab.output.renderOutput(dataTable, element);\n",
              "          const docLink = document.createElement('div');\n",
              "          docLink.innerHTML = docLinkHtml;\n",
              "          element.appendChild(docLink);\n",
              "        }\n",
              "      </script>\n",
              "    </div>\n",
              "  </div>\n",
              "  "
            ]
          },
          "metadata": {},
          "execution_count": 3
        }
      ]
    },
    {
      "cell_type": "code",
      "source": [
        "walmart_df.isnull().sum()"
      ],
      "metadata": {
        "colab": {
          "base_uri": "https://localhost:8080/"
        },
        "id": "SBhjxUc2MUe6",
        "outputId": "0400437b-3105-44d9-a0ce-e1c1c11d348b"
      },
      "execution_count": null,
      "outputs": [
        {
          "output_type": "execute_result",
          "data": {
            "text/plain": [
              "User_ID                       0\n",
              "Product_ID                    0\n",
              "Gender                        1\n",
              "Age                           1\n",
              "Occupation                    1\n",
              "City_Category                 1\n",
              "Stay_In_Current_City_Years    1\n",
              "Marital_Status                1\n",
              "Product_Category              1\n",
              "Purchase                      1\n",
              "dtype: int64"
            ]
          },
          "metadata": {},
          "execution_count": 4
        }
      ]
    },
    {
      "cell_type": "code",
      "source": [
        "walmart_df.drop(index=33672,inplace=True)"
      ],
      "metadata": {
        "id": "GUDRXw1aMaRD"
      },
      "execution_count": null,
      "outputs": []
    },
    {
      "cell_type": "markdown",
      "source": [
        "## 1.Problem statement"
      ],
      "metadata": {
        "id": "fSR9E0MkHQhr"
      }
    },
    {
      "cell_type": "markdown",
      "source": [
        "**By analyzing the sample data we have to estimate the average \n",
        "purchase cost done by individual on the total population. Apart from that we have to check the average purchasing varies or not w.r.t any particular category like  gender or  age**"
      ],
      "metadata": {
        "id": "ENZCxZtIHUBM"
      }
    },
    {
      "cell_type": "markdown",
      "source": [
        "###a. Shape of data,data types,statistical summary"
      ],
      "metadata": {
        "id": "vdmcU2G-IRpw"
      }
    },
    {
      "cell_type": "code",
      "source": [
        "walmart_df.shape"
      ],
      "metadata": {
        "id": "g-NyOWsDx_Rd",
        "colab": {
          "base_uri": "https://localhost:8080/"
        },
        "outputId": "b7b2a7e0-e3ae-4c33-ac0c-28b933180b04"
      },
      "execution_count": null,
      "outputs": [
        {
          "output_type": "execute_result",
          "data": {
            "text/plain": [
              "(33672, 10)"
            ]
          },
          "metadata": {},
          "execution_count": 6
        }
      ]
    },
    {
      "cell_type": "code",
      "source": [
        "walmart_df.info()"
      ],
      "metadata": {
        "colab": {
          "base_uri": "https://localhost:8080/"
        },
        "id": "QwK5RsU5Ijn-",
        "outputId": "e661b6f0-e8c8-4f1e-a3a2-4dcfb0aadf2f"
      },
      "execution_count": null,
      "outputs": [
        {
          "output_type": "stream",
          "name": "stdout",
          "text": [
            "<class 'pandas.core.frame.DataFrame'>\n",
            "Int64Index: 33672 entries, 0 to 33671\n",
            "Data columns (total 10 columns):\n",
            " #   Column                      Non-Null Count  Dtype  \n",
            "---  ------                      --------------  -----  \n",
            " 0   User_ID                     33672 non-null  int64  \n",
            " 1   Product_ID                  33672 non-null  object \n",
            " 2   Gender                      33672 non-null  object \n",
            " 3   Age                         33672 non-null  object \n",
            " 4   Occupation                  33672 non-null  float64\n",
            " 5   City_Category               33672 non-null  object \n",
            " 6   Stay_In_Current_City_Years  33672 non-null  object \n",
            " 7   Marital_Status              33672 non-null  float64\n",
            " 8   Product_Category            33672 non-null  float64\n",
            " 9   Purchase                    33672 non-null  float64\n",
            "dtypes: float64(4), int64(1), object(5)\n",
            "memory usage: 2.8+ MB\n"
          ]
        }
      ]
    },
    {
      "cell_type": "code",
      "source": [
        "walmart_df.groupby(['Gender'])['User_ID'].nunique()"
      ],
      "metadata": {
        "colab": {
          "base_uri": "https://localhost:8080/"
        },
        "id": "vFW507M1l7Qu",
        "outputId": "7ed24526-301e-4618-c3d5-21a97af645b8"
      },
      "execution_count": null,
      "outputs": [
        {
          "output_type": "execute_result",
          "data": {
            "text/plain": [
              "Gender\n",
              "F    1209\n",
              "M    3348\n",
              "Name: User_ID, dtype: int64"
            ]
          },
          "metadata": {},
          "execution_count": 8
        }
      ]
    },
    {
      "cell_type": "code",
      "source": [
        "print('The Unique values are:')\n",
        "for col in walmart_df.columns:\n",
        "  print(f\" {col} - '{len(walmart_df[col].unique())}'\")"
      ],
      "metadata": {
        "colab": {
          "base_uri": "https://localhost:8080/"
        },
        "id": "PyTrw5VJIykQ",
        "outputId": "9a6be839-2654-4443-c631-43cbaa9aaa2f"
      },
      "execution_count": null,
      "outputs": [
        {
          "output_type": "stream",
          "name": "stdout",
          "text": [
            "The Unique values are:\n",
            " User_ID - '4557'\n",
            " Product_ID - '2946'\n",
            " Gender - '2'\n",
            " Age - '7'\n",
            " Occupation - '21'\n",
            " City_Category - '3'\n",
            " Stay_In_Current_City_Years - '5'\n",
            " Marital_Status - '2'\n",
            " Product_Category - '18'\n",
            " Purchase - '10328'\n"
          ]
        }
      ]
    },
    {
      "cell_type": "markdown",
      "source": [
        "From the above analysis the categorical columns are \n",
        "1. Gender, \n",
        "2. Age,\n",
        "3. Occupation, \n",
        "4. City_Category, \n",
        "5. Stay_In_Current_City_Years, \n",
        "6. Marital_Status, \n",
        "7. Product_Categeory "
      ],
      "metadata": {
        "id": "3aF_GHXVM2kB"
      }
    },
    {
      "cell_type": "code",
      "source": [
        "categorical_columns=[\"Gender\",\"Age\",'Occupation','City_Category','Stay_In_Current_City_Years','Marital_Status','Product_Category']\n",
        "\n",
        "for i in categorical_columns:\n",
        "  walmart_df[i]=walmart_df[i].astype('category')"
      ],
      "metadata": {
        "id": "p6fK9cBzMRQ1"
      },
      "execution_count": null,
      "outputs": []
    },
    {
      "cell_type": "code",
      "source": [
        "walmart_df.info()"
      ],
      "metadata": {
        "colab": {
          "base_uri": "https://localhost:8080/"
        },
        "id": "ICNu0cT4O3YB",
        "outputId": "e1963060-8deb-4712-b6de-3e1480a6d81c"
      },
      "execution_count": null,
      "outputs": [
        {
          "output_type": "stream",
          "name": "stdout",
          "text": [
            "<class 'pandas.core.frame.DataFrame'>\n",
            "Int64Index: 33672 entries, 0 to 33671\n",
            "Data columns (total 10 columns):\n",
            " #   Column                      Non-Null Count  Dtype   \n",
            "---  ------                      --------------  -----   \n",
            " 0   User_ID                     33672 non-null  int64   \n",
            " 1   Product_ID                  33672 non-null  object  \n",
            " 2   Gender                      33672 non-null  category\n",
            " 3   Age                         33672 non-null  category\n",
            " 4   Occupation                  33672 non-null  category\n",
            " 5   City_Category               33672 non-null  category\n",
            " 6   Stay_In_Current_City_Years  33672 non-null  category\n",
            " 7   Marital_Status              33672 non-null  category\n",
            " 8   Product_Category            33672 non-null  category\n",
            " 9   Purchase                    33672 non-null  float64 \n",
            "dtypes: category(7), float64(1), int64(1), object(1)\n",
            "memory usage: 1.3+ MB\n"
          ]
        }
      ]
    },
    {
      "cell_type": "code",
      "source": [
        "walmart_df.describe()"
      ],
      "metadata": {
        "colab": {
          "base_uri": "https://localhost:8080/",
          "height": 300
        },
        "id": "xOJczmvIPHyZ",
        "outputId": "f61d1bd3-c6d1-4dd3-8912-ad88efcb38da"
      },
      "execution_count": null,
      "outputs": [
        {
          "output_type": "execute_result",
          "data": {
            "text/plain": [
              "            User_ID      Purchase\n",
              "count  3.367200e+04  33672.000000\n",
              "mean   1.002596e+06   9264.410252\n",
              "std    1.486853e+03   4945.043197\n",
              "min    1.000001e+06    185.000000\n",
              "25%    1.001294e+06   5845.000000\n",
              "50%    1.002621e+06   8046.000000\n",
              "75%    1.003885e+06  12021.250000\n",
              "max    1.005166e+06  23958.000000"
            ],
            "text/html": [
              "\n",
              "  <div id=\"df-be0834ef-d231-4c74-9ebc-ef024c0e4552\">\n",
              "    <div class=\"colab-df-container\">\n",
              "      <div>\n",
              "<style scoped>\n",
              "    .dataframe tbody tr th:only-of-type {\n",
              "        vertical-align: middle;\n",
              "    }\n",
              "\n",
              "    .dataframe tbody tr th {\n",
              "        vertical-align: top;\n",
              "    }\n",
              "\n",
              "    .dataframe thead th {\n",
              "        text-align: right;\n",
              "    }\n",
              "</style>\n",
              "<table border=\"1\" class=\"dataframe\">\n",
              "  <thead>\n",
              "    <tr style=\"text-align: right;\">\n",
              "      <th></th>\n",
              "      <th>User_ID</th>\n",
              "      <th>Purchase</th>\n",
              "    </tr>\n",
              "  </thead>\n",
              "  <tbody>\n",
              "    <tr>\n",
              "      <th>count</th>\n",
              "      <td>3.367200e+04</td>\n",
              "      <td>33672.000000</td>\n",
              "    </tr>\n",
              "    <tr>\n",
              "      <th>mean</th>\n",
              "      <td>1.002596e+06</td>\n",
              "      <td>9264.410252</td>\n",
              "    </tr>\n",
              "    <tr>\n",
              "      <th>std</th>\n",
              "      <td>1.486853e+03</td>\n",
              "      <td>4945.043197</td>\n",
              "    </tr>\n",
              "    <tr>\n",
              "      <th>min</th>\n",
              "      <td>1.000001e+06</td>\n",
              "      <td>185.000000</td>\n",
              "    </tr>\n",
              "    <tr>\n",
              "      <th>25%</th>\n",
              "      <td>1.001294e+06</td>\n",
              "      <td>5845.000000</td>\n",
              "    </tr>\n",
              "    <tr>\n",
              "      <th>50%</th>\n",
              "      <td>1.002621e+06</td>\n",
              "      <td>8046.000000</td>\n",
              "    </tr>\n",
              "    <tr>\n",
              "      <th>75%</th>\n",
              "      <td>1.003885e+06</td>\n",
              "      <td>12021.250000</td>\n",
              "    </tr>\n",
              "    <tr>\n",
              "      <th>max</th>\n",
              "      <td>1.005166e+06</td>\n",
              "      <td>23958.000000</td>\n",
              "    </tr>\n",
              "  </tbody>\n",
              "</table>\n",
              "</div>\n",
              "      <button class=\"colab-df-convert\" onclick=\"convertToInteractive('df-be0834ef-d231-4c74-9ebc-ef024c0e4552')\"\n",
              "              title=\"Convert this dataframe to an interactive table.\"\n",
              "              style=\"display:none;\">\n",
              "        \n",
              "  <svg xmlns=\"http://www.w3.org/2000/svg\" height=\"24px\"viewBox=\"0 0 24 24\"\n",
              "       width=\"24px\">\n",
              "    <path d=\"M0 0h24v24H0V0z\" fill=\"none\"/>\n",
              "    <path d=\"M18.56 5.44l.94 2.06.94-2.06 2.06-.94-2.06-.94-.94-2.06-.94 2.06-2.06.94zm-11 1L8.5 8.5l.94-2.06 2.06-.94-2.06-.94L8.5 2.5l-.94 2.06-2.06.94zm10 10l.94 2.06.94-2.06 2.06-.94-2.06-.94-.94-2.06-.94 2.06-2.06.94z\"/><path d=\"M17.41 7.96l-1.37-1.37c-.4-.4-.92-.59-1.43-.59-.52 0-1.04.2-1.43.59L10.3 9.45l-7.72 7.72c-.78.78-.78 2.05 0 2.83L4 21.41c.39.39.9.59 1.41.59.51 0 1.02-.2 1.41-.59l7.78-7.78 2.81-2.81c.8-.78.8-2.07 0-2.86zM5.41 20L4 18.59l7.72-7.72 1.47 1.35L5.41 20z\"/>\n",
              "  </svg>\n",
              "      </button>\n",
              "      \n",
              "  <style>\n",
              "    .colab-df-container {\n",
              "      display:flex;\n",
              "      flex-wrap:wrap;\n",
              "      gap: 12px;\n",
              "    }\n",
              "\n",
              "    .colab-df-convert {\n",
              "      background-color: #E8F0FE;\n",
              "      border: none;\n",
              "      border-radius: 50%;\n",
              "      cursor: pointer;\n",
              "      display: none;\n",
              "      fill: #1967D2;\n",
              "      height: 32px;\n",
              "      padding: 0 0 0 0;\n",
              "      width: 32px;\n",
              "    }\n",
              "\n",
              "    .colab-df-convert:hover {\n",
              "      background-color: #E2EBFA;\n",
              "      box-shadow: 0px 1px 2px rgba(60, 64, 67, 0.3), 0px 1px 3px 1px rgba(60, 64, 67, 0.15);\n",
              "      fill: #174EA6;\n",
              "    }\n",
              "\n",
              "    [theme=dark] .colab-df-convert {\n",
              "      background-color: #3B4455;\n",
              "      fill: #D2E3FC;\n",
              "    }\n",
              "\n",
              "    [theme=dark] .colab-df-convert:hover {\n",
              "      background-color: #434B5C;\n",
              "      box-shadow: 0px 1px 3px 1px rgba(0, 0, 0, 0.15);\n",
              "      filter: drop-shadow(0px 1px 2px rgba(0, 0, 0, 0.3));\n",
              "      fill: #FFFFFF;\n",
              "    }\n",
              "  </style>\n",
              "\n",
              "      <script>\n",
              "        const buttonEl =\n",
              "          document.querySelector('#df-be0834ef-d231-4c74-9ebc-ef024c0e4552 button.colab-df-convert');\n",
              "        buttonEl.style.display =\n",
              "          google.colab.kernel.accessAllowed ? 'block' : 'none';\n",
              "\n",
              "        async function convertToInteractive(key) {\n",
              "          const element = document.querySelector('#df-be0834ef-d231-4c74-9ebc-ef024c0e4552');\n",
              "          const dataTable =\n",
              "            await google.colab.kernel.invokeFunction('convertToInteractive',\n",
              "                                                     [key], {});\n",
              "          if (!dataTable) return;\n",
              "\n",
              "          const docLinkHtml = 'Like what you see? Visit the ' +\n",
              "            '<a target=\"_blank\" href=https://colab.research.google.com/notebooks/data_table.ipynb>data table notebook</a>'\n",
              "            + ' to learn more about interactive tables.';\n",
              "          element.innerHTML = '';\n",
              "          dataTable['output_type'] = 'display_data';\n",
              "          await google.colab.output.renderOutput(dataTable, element);\n",
              "          const docLink = document.createElement('div');\n",
              "          docLink.innerHTML = docLinkHtml;\n",
              "          element.appendChild(docLink);\n",
              "        }\n",
              "      </script>\n",
              "    </div>\n",
              "  </div>\n",
              "  "
            ]
          },
          "metadata": {},
          "execution_count": 12
        }
      ]
    },
    {
      "cell_type": "code",
      "source": [
        "# walmart_df=walmart_df[~(walmart_df['Purchase']>21000)]"
      ],
      "metadata": {
        "id": "EJAbSagsSoTQ"
      },
      "execution_count": null,
      "outputs": []
    },
    {
      "cell_type": "code",
      "source": [
        "walmart_df.describe(include='category')"
      ],
      "metadata": {
        "colab": {
          "base_uri": "https://localhost:8080/",
          "height": 175
        },
        "id": "tuRXSbz-Pcvw",
        "outputId": "fd4e503c-18dd-4530-f5cc-e8fc126d6a02"
      },
      "execution_count": null,
      "outputs": [
        {
          "output_type": "execute_result",
          "data": {
            "text/plain": [
              "       Gender    Age  Occupation City_Category  Stay_In_Current_City_Years  \\\n",
              "count   33672  33672     33672.0         33672                       33672   \n",
              "unique      2      7        21.0             3                           5   \n",
              "top         M  26-35         4.0             B                           1   \n",
              "freq    25839  13258      4489.0         14467                       11863   \n",
              "\n",
              "        Marital_Status  Product_Category  \n",
              "count          33672.0           33672.0  \n",
              "unique             2.0              18.0  \n",
              "top                0.0               5.0  \n",
              "freq           20069.0            9473.0  "
            ],
            "text/html": [
              "\n",
              "  <div id=\"df-0ee2155b-2f1d-4f7d-96b6-e5bb0ac9c548\">\n",
              "    <div class=\"colab-df-container\">\n",
              "      <div>\n",
              "<style scoped>\n",
              "    .dataframe tbody tr th:only-of-type {\n",
              "        vertical-align: middle;\n",
              "    }\n",
              "\n",
              "    .dataframe tbody tr th {\n",
              "        vertical-align: top;\n",
              "    }\n",
              "\n",
              "    .dataframe thead th {\n",
              "        text-align: right;\n",
              "    }\n",
              "</style>\n",
              "<table border=\"1\" class=\"dataframe\">\n",
              "  <thead>\n",
              "    <tr style=\"text-align: right;\">\n",
              "      <th></th>\n",
              "      <th>Gender</th>\n",
              "      <th>Age</th>\n",
              "      <th>Occupation</th>\n",
              "      <th>City_Category</th>\n",
              "      <th>Stay_In_Current_City_Years</th>\n",
              "      <th>Marital_Status</th>\n",
              "      <th>Product_Category</th>\n",
              "    </tr>\n",
              "  </thead>\n",
              "  <tbody>\n",
              "    <tr>\n",
              "      <th>count</th>\n",
              "      <td>33672</td>\n",
              "      <td>33672</td>\n",
              "      <td>33672.0</td>\n",
              "      <td>33672</td>\n",
              "      <td>33672</td>\n",
              "      <td>33672.0</td>\n",
              "      <td>33672.0</td>\n",
              "    </tr>\n",
              "    <tr>\n",
              "      <th>unique</th>\n",
              "      <td>2</td>\n",
              "      <td>7</td>\n",
              "      <td>21.0</td>\n",
              "      <td>3</td>\n",
              "      <td>5</td>\n",
              "      <td>2.0</td>\n",
              "      <td>18.0</td>\n",
              "    </tr>\n",
              "    <tr>\n",
              "      <th>top</th>\n",
              "      <td>M</td>\n",
              "      <td>26-35</td>\n",
              "      <td>4.0</td>\n",
              "      <td>B</td>\n",
              "      <td>1</td>\n",
              "      <td>0.0</td>\n",
              "      <td>5.0</td>\n",
              "    </tr>\n",
              "    <tr>\n",
              "      <th>freq</th>\n",
              "      <td>25839</td>\n",
              "      <td>13258</td>\n",
              "      <td>4489.0</td>\n",
              "      <td>14467</td>\n",
              "      <td>11863</td>\n",
              "      <td>20069.0</td>\n",
              "      <td>9473.0</td>\n",
              "    </tr>\n",
              "  </tbody>\n",
              "</table>\n",
              "</div>\n",
              "      <button class=\"colab-df-convert\" onclick=\"convertToInteractive('df-0ee2155b-2f1d-4f7d-96b6-e5bb0ac9c548')\"\n",
              "              title=\"Convert this dataframe to an interactive table.\"\n",
              "              style=\"display:none;\">\n",
              "        \n",
              "  <svg xmlns=\"http://www.w3.org/2000/svg\" height=\"24px\"viewBox=\"0 0 24 24\"\n",
              "       width=\"24px\">\n",
              "    <path d=\"M0 0h24v24H0V0z\" fill=\"none\"/>\n",
              "    <path d=\"M18.56 5.44l.94 2.06.94-2.06 2.06-.94-2.06-.94-.94-2.06-.94 2.06-2.06.94zm-11 1L8.5 8.5l.94-2.06 2.06-.94-2.06-.94L8.5 2.5l-.94 2.06-2.06.94zm10 10l.94 2.06.94-2.06 2.06-.94-2.06-.94-.94-2.06-.94 2.06-2.06.94z\"/><path d=\"M17.41 7.96l-1.37-1.37c-.4-.4-.92-.59-1.43-.59-.52 0-1.04.2-1.43.59L10.3 9.45l-7.72 7.72c-.78.78-.78 2.05 0 2.83L4 21.41c.39.39.9.59 1.41.59.51 0 1.02-.2 1.41-.59l7.78-7.78 2.81-2.81c.8-.78.8-2.07 0-2.86zM5.41 20L4 18.59l7.72-7.72 1.47 1.35L5.41 20z\"/>\n",
              "  </svg>\n",
              "      </button>\n",
              "      \n",
              "  <style>\n",
              "    .colab-df-container {\n",
              "      display:flex;\n",
              "      flex-wrap:wrap;\n",
              "      gap: 12px;\n",
              "    }\n",
              "\n",
              "    .colab-df-convert {\n",
              "      background-color: #E8F0FE;\n",
              "      border: none;\n",
              "      border-radius: 50%;\n",
              "      cursor: pointer;\n",
              "      display: none;\n",
              "      fill: #1967D2;\n",
              "      height: 32px;\n",
              "      padding: 0 0 0 0;\n",
              "      width: 32px;\n",
              "    }\n",
              "\n",
              "    .colab-df-convert:hover {\n",
              "      background-color: #E2EBFA;\n",
              "      box-shadow: 0px 1px 2px rgba(60, 64, 67, 0.3), 0px 1px 3px 1px rgba(60, 64, 67, 0.15);\n",
              "      fill: #174EA6;\n",
              "    }\n",
              "\n",
              "    [theme=dark] .colab-df-convert {\n",
              "      background-color: #3B4455;\n",
              "      fill: #D2E3FC;\n",
              "    }\n",
              "\n",
              "    [theme=dark] .colab-df-convert:hover {\n",
              "      background-color: #434B5C;\n",
              "      box-shadow: 0px 1px 3px 1px rgba(0, 0, 0, 0.15);\n",
              "      filter: drop-shadow(0px 1px 2px rgba(0, 0, 0, 0.3));\n",
              "      fill: #FFFFFF;\n",
              "    }\n",
              "  </style>\n",
              "\n",
              "      <script>\n",
              "        const buttonEl =\n",
              "          document.querySelector('#df-0ee2155b-2f1d-4f7d-96b6-e5bb0ac9c548 button.colab-df-convert');\n",
              "        buttonEl.style.display =\n",
              "          google.colab.kernel.accessAllowed ? 'block' : 'none';\n",
              "\n",
              "        async function convertToInteractive(key) {\n",
              "          const element = document.querySelector('#df-0ee2155b-2f1d-4f7d-96b6-e5bb0ac9c548');\n",
              "          const dataTable =\n",
              "            await google.colab.kernel.invokeFunction('convertToInteractive',\n",
              "                                                     [key], {});\n",
              "          if (!dataTable) return;\n",
              "\n",
              "          const docLinkHtml = 'Like what you see? Visit the ' +\n",
              "            '<a target=\"_blank\" href=https://colab.research.google.com/notebooks/data_table.ipynb>data table notebook</a>'\n",
              "            + ' to learn more about interactive tables.';\n",
              "          element.innerHTML = '';\n",
              "          dataTable['output_type'] = 'display_data';\n",
              "          await google.colab.output.renderOutput(dataTable, element);\n",
              "          const docLink = document.createElement('div');\n",
              "          docLink.innerHTML = docLinkHtml;\n",
              "          element.appendChild(docLink);\n",
              "        }\n",
              "      </script>\n",
              "    </div>\n",
              "  </div>\n",
              "  "
            ]
          },
          "metadata": {},
          "execution_count": 14
        }
      ]
    },
    {
      "cell_type": "markdown",
      "source": [
        "###b. Non Graphical analysis"
      ],
      "metadata": {
        "id": "1lCAxgYUh3ru"
      }
    },
    {
      "cell_type": "code",
      "source": [
        "for i in walmart_df[categorical_columns]:\n",
        "  print(walmart_df[i].value_counts())\n",
        "  print('_____________')\n"
      ],
      "metadata": {
        "colab": {
          "base_uri": "https://localhost:8080/"
        },
        "id": "etdugY_BQKzY",
        "outputId": "22061be6-6809-4a7f-9779-913ff39dd337"
      },
      "execution_count": null,
      "outputs": [
        {
          "output_type": "stream",
          "name": "stdout",
          "text": [
            "M    25839\n",
            "F     7833\n",
            "Name: Gender, dtype: int64\n",
            "_____________\n",
            "26-35    13258\n",
            "36-45     6849\n",
            "18-25     6227\n",
            "46-50     2739\n",
            "51-55     2416\n",
            "55+       1333\n",
            "0-17       850\n",
            "Name: Age, dtype: int64\n",
            "_____________\n",
            "4.0     4489\n",
            "0.0     4193\n",
            "7.0     3507\n",
            "17.0    2549\n",
            "1.0     2501\n",
            "20.0    2112\n",
            "12.0    1899\n",
            "14.0    1726\n",
            "2.0     1654\n",
            "16.0    1607\n",
            "6.0     1278\n",
            "3.0     1181\n",
            "10.0     758\n",
            "5.0      732\n",
            "15.0     727\n",
            "11.0     707\n",
            "19.0     557\n",
            "13.0     527\n",
            "18.0     471\n",
            "9.0      400\n",
            "8.0       97\n",
            "Name: Occupation, dtype: int64\n",
            "_____________\n",
            "B    14467\n",
            "C    10385\n",
            "A     8820\n",
            "Name: City_Category, dtype: int64\n",
            "_____________\n",
            "1     11863\n",
            "2      6159\n",
            "3      5852\n",
            "4+     5080\n",
            "0      4718\n",
            "Name: Stay_In_Current_City_Years, dtype: int64\n",
            "_____________\n",
            "0.0    20069\n",
            "1.0    13603\n",
            "Name: Marital_Status, dtype: int64\n",
            "_____________\n",
            "5.0     9473\n",
            "1.0     8536\n",
            "8.0     7066\n",
            "11.0    1582\n",
            "2.0     1455\n",
            "3.0     1242\n",
            "6.0     1234\n",
            "4.0      706\n",
            "16.0     583\n",
            "15.0     392\n",
            "13.0     326\n",
            "10.0     302\n",
            "12.0     230\n",
            "7.0      202\n",
            "18.0     183\n",
            "14.0     101\n",
            "17.0      38\n",
            "9.0       21\n",
            "Name: Product_Category, dtype: int64\n",
            "_____________\n"
          ]
        }
      ]
    },
    {
      "cell_type": "markdown",
      "source": [
        "1. Men are more than Women\n",
        "\n",
        "2. 26-35 age group is more and 0-17 is the least\n",
        "\n",
        "3. Occupation code of 4,0 are the highest\n",
        "\n",
        "4. B City is the highest\n",
        "\n",
        "5. In the category of stay in current city in years is more of =1 year people\n",
        "\n",
        "6. Singles are more compared to married\n",
        "\n",
        "7. Product category of 5 is the highest selling category "
      ],
      "metadata": {
        "id": "0Gzbuo8hkuCO"
      }
    },
    {
      "cell_type": "markdown",
      "source": [
        "###c. Visual Analysis"
      ],
      "metadata": {
        "id": "cESUkBHNiFrI"
      }
    },
    {
      "cell_type": "code",
      "source": [
        "sns.displot(walmart_df['Purchase'],bins=25)\n",
        "plt.show()"
      ],
      "metadata": {
        "colab": {
          "base_uri": "https://localhost:8080/",
          "height": 369
        },
        "id": "YAvelO-SR4j7",
        "outputId": "9846089a-2f7e-4dde-c534-1116849bc54b"
      },
      "execution_count": null,
      "outputs": [
        {
          "output_type": "display_data",
          "data": {
            "text/plain": [
              "<Figure size 360x360 with 1 Axes>"
            ],
            "image/png": "[encoded data removed]"
          },
          "metadata": {
            "needs_background": "light"
          }
        }
      ]
    },
    {
      "cell_type": "markdown",
      "source": [
        "**Purchase cost of 7000-8000 and 8000-9000 is more in number**"
      ],
      "metadata": {
        "id": "esv_jZItDMTk"
      }
    },
    {
      "cell_type": "code",
      "source": [
        "for i in categorical_columns:\n",
        "  sns.boxplot(x=i,y='Purchase',data=walmart_df,showmeans=True)\n",
        "  plt.show()"
      ],
      "metadata": {
        "colab": {
          "base_uri": "https://localhost:8080/",
          "height": 1000
        },
        "id": "E4GxU58SCAT2",
        "outputId": "81cc631a-250b-449e-bb06-9f14bd13cd31"
      },
      "execution_count": null,
      "outputs": [
        {
          "output_type": "display_data",
          "data": {
            "text/plain": [
              "<Figure size 432x288 with 1 Axes>"
            ],
            "image/png": "[encoded data removed]"
          },
          "metadata": {
            "needs_background": "light"
          }
        },
        {
          "output_type": "display_data",
          "data": {
            "text/plain": [
              "<Figure size 432x288 with 1 Axes>"
            ],
            "image/png": "[encoded data removed]"
          },
          "metadata": {
            "needs_background": "light"
          }
        },
        {
          "output_type": "stream",
          "name": "stderr",
          "text": [
            "/usr/local/lib/python3.7/dist-packages/pandas/io/formats/format.py:1429: FutureWarning: Index.ravel returning ndarray is deprecated; in a future version this will return a view on self.\n",
            "  for val, m in zip(values.ravel(), mask.ravel())\n"
          ]
        },
        {
          "output_type": "display_data",
          "data": {
            "text/plain": [
              "<Figure size 432x288 with 1 Axes>"
            ],
            "image/png": "[encoded data removed]"
          },
          "metadata": {
            "needs_background": "light"
          }
        },
        {
          "output_type": "display_data",
          "data": {
            "text/plain": [
              "<Figure size 432x288 with 1 Axes>"
            ],
            "image/png": "[encoded data removed]"
          },
          "metadata": {
            "needs_background": "light"
          }
        },
        {
          "output_type": "display_data",
          "data": {
            "text/plain": [
              "<Figure size 432x288 with 1 Axes>"
            ],
            "image/png": "[encoded data removed]"
          },
          "metadata": {
            "needs_background": "light"
          }
        },
        {
          "output_type": "stream",
          "name": "stderr",
          "text": [
            "/usr/local/lib/python3.7/dist-packages/pandas/io/formats/format.py:1429: FutureWarning: Index.ravel returning ndarray is deprecated; in a future version this will return a view on self.\n",
            "  for val, m in zip(values.ravel(), mask.ravel())\n"
          ]
        },
        {
          "output_type": "display_data",
          "data": {
            "text/plain": [
              "<Figure size 432x288 with 1 Axes>"
            ],
            "image/png": "[encoded data removed]"
          },
          "metadata": {
            "needs_background": "light"
          }
        },
        {
          "output_type": "stream",
          "name": "stderr",
          "text": [
            "/usr/local/lib/python3.7/dist-packages/pandas/io/formats/format.py:1429: FutureWarning: Index.ravel returning ndarray is deprecated; in a future version this will return a view on self.\n",
            "  for val, m in zip(values.ravel(), mask.ravel())\n"
          ]
        },
        {
          "output_type": "display_data",
          "data": {
            "text/plain": [
              "<Figure size 432x288 with 1 Axes>"
            ],
            "image/png": "[encoded data removed]"
          },
          "metadata": {
            "needs_background": "light"
          }
        }
      ]
    },
    {
      "cell_type": "markdown",
      "source": [
        "**AVERAGE Purchase cost is higher for men, 51-55 age group, for Occupation code 8, for city category C, for 2 yrs stay in current city, for people who are married and for the product catgegory 10.**"
      ],
      "metadata": {
        "id": "e74yF-IaD_KT"
      }
    },
    {
      "cell_type": "code",
      "source": [
        "for i in categorical_columns:\n",
        "  print(walmart_df.groupby([i])['Purchase'].mean().sort_values())\n",
        "  "
      ],
      "metadata": {
        "colab": {
          "base_uri": "https://localhost:8080/"
        },
        "id": "zzAg0pwlWPIh",
        "outputId": "9807e016-0812-4a34-87ba-01845e64ee2c"
      },
      "execution_count": null,
      "outputs": [
        {
          "output_type": "stream",
          "name": "stdout",
          "text": [
            "Gender\n",
            "F    8745.042257\n",
            "M    9421.854793\n",
            "Name: Purchase, dtype: float64\n",
            "Age\n",
            "0-17     8999.978824\n",
            "18-25    9131.510358\n",
            "46-50    9141.683461\n",
            "26-35    9249.028511\n",
            "36-45    9370.483720\n",
            "55+      9378.336834\n",
            "51-55    9559.961921\n",
            "Name: Purchase, dtype: float64\n",
            "Occupation\n",
            "1.0     8683.475010\n",
            "20.0    8705.574337\n",
            "9.0     8706.290000\n",
            "2.0     8815.582225\n",
            "19.0    8854.849192\n",
            "18.0    9017.802548\n",
            "0.0     9153.857143\n",
            "10.0    9232.050132\n",
            "4.0     9237.604589\n",
            "11.0    9292.625177\n",
            "16.0    9334.503423\n",
            "13.0    9353.777989\n",
            "3.0     9391.485182\n",
            "5.0     9404.459016\n",
            "7.0     9471.495580\n",
            "6.0     9488.383412\n",
            "14.0    9511.931054\n",
            "15.0    9631.872077\n",
            "17.0    9723.857591\n",
            "12.0    9885.604529\n",
            "8.0     9899.154639\n",
            "Name: Purchase, dtype: float64\n",
            "City_Category\n",
            "A    8862.835488\n",
            "B    9162.788208\n",
            "C    9747.034762\n",
            "Name: Purchase, dtype: float64\n",
            "Stay_In_Current_City_Years\n",
            "0     9166.781899\n",
            "3     9220.005981\n",
            "4+    9266.192717\n",
            "1     9283.709348\n",
            "2     9342.745088\n",
            "Name: Purchase, dtype: float64\n",
            "Marital_Status\n",
            "0.0    9240.085505\n",
            "1.0    9300.297434\n",
            "Name: Purchase, dtype: float64\n",
            "Product_Category\n",
            "13.0      727.733129\n",
            "12.0     1356.126087\n",
            "4.0      2306.063739\n",
            "18.0     2970.322404\n",
            "11.0     4619.591024\n",
            "5.0      6252.880714\n",
            "8.0      7475.419898\n",
            "3.0     10112.448470\n",
            "17.0    10238.842105\n",
            "2.0     11167.806186\n",
            "14.0    12426.188119\n",
            "1.0     13602.720244\n",
            "9.0     14235.571429\n",
            "16.0    14486.487136\n",
            "15.0    14757.727041\n",
            "6.0     15847.121556\n",
            "7.0     16585.331683\n",
            "10.0    19425.264901\n",
            "Name: Purchase, dtype: float64\n"
          ]
        }
      ]
    },
    {
      "cell_type": "markdown",
      "source": [
        "##2.Missing values and Outliers"
      ],
      "metadata": {
        "id": "JFUtMpFfI0qe"
      }
    },
    {
      "cell_type": "code",
      "source": [
        "walmart_df.isnull().sum()"
      ],
      "metadata": {
        "colab": {
          "base_uri": "https://localhost:8080/"
        },
        "id": "W-ZPF1ZLH6k-",
        "outputId": "e500fae3-0591-4c6b-d4e3-71e74aec62cb"
      },
      "execution_count": null,
      "outputs": [
        {
          "output_type": "execute_result",
          "data": {
            "text/plain": [
              "User_ID                       0\n",
              "Product_ID                    0\n",
              "Gender                        0\n",
              "Age                           0\n",
              "Occupation                    0\n",
              "City_Category                 0\n",
              "Stay_In_Current_City_Years    0\n",
              "Marital_Status                0\n",
              "Product_Category              0\n",
              "Purchase                      0\n",
              "dtype: int64"
            ]
          },
          "metadata": {},
          "execution_count": 19
        }
      ]
    },
    {
      "cell_type": "markdown",
      "source": [
        "There are no null values and outliers"
      ],
      "metadata": {
        "id": "jzPjcyriLA4J"
      }
    },
    {
      "cell_type": "markdown",
      "source": [
        "##3.Business Insights"
      ],
      "metadata": {
        "id": "M6CxRbxTLM32"
      }
    },
    {
      "cell_type": "markdown",
      "source": [
        "**The Range of the variable and the stats of variables are shown aboove using describe function and all are categorical variables except the Purchase column. the distribution of Purchase is shown above and the most frequent purchasing happens in the interval of 7000-8000 and 8000-9000**"
      ],
      "metadata": {
        "id": "xSqe2EVPO9K8"
      }
    },
    {
      "cell_type": "markdown",
      "source": [
        "##4.Answering Questions"
      ],
      "metadata": {
        "id": "l8uFJsa2Ph4l"
      }
    },
    {
      "cell_type": "markdown",
      "source": [
        "**From the above Analysis it was found that Men's purchasing average is more than Women's purchasing average**"
      ],
      "metadata": {
        "id": "FtjVCwPoPr0o"
      }
    },
    {
      "cell_type": "code",
      "source": [
        "walmart_df['Gender'].value_counts()"
      ],
      "metadata": {
        "colab": {
          "base_uri": "https://localhost:8080/"
        },
        "id": "zn5-d6dARNp7",
        "outputId": "bf2ed424-9ce5-44ba-f238-09b4b229ea3f"
      },
      "execution_count": null,
      "outputs": [
        {
          "output_type": "execute_result",
          "data": {
            "text/plain": [
              "M    25839\n",
              "F     7833\n",
              "Name: Gender, dtype: int64"
            ]
          },
          "metadata": {},
          "execution_count": 20
        }
      ]
    },
    {
      "cell_type": "markdown",
      "source": [
        "### Confidence interval w.r.t Gender"
      ],
      "metadata": {
        "id": "dzmXiL3XhYX_"
      }
    },
    {
      "cell_type": "markdown",
      "source": [
        "**BOOTSTRAP**"
      ],
      "metadata": {
        "id": "aBCj5HpURcwH"
      }
    },
    {
      "cell_type": "code",
      "source": [
        "# Female customers sample mean"
      ],
      "metadata": {
        "id": "QgdOXNzvZbo-"
      },
      "execution_count": null,
      "outputs": []
    },
    {
      "cell_type": "code",
      "source": [
        "lower_limit=np.mean(female_purchasers_sample_means)-np.std(female_purchasers_sample_means)*1.96\n",
        "upper_limit=np.mean(female_purchasers_sample_means)+np.std(female_purchasers_sample_means)*1.96"
      ],
      "metadata": {
        "id": "-VqEXZHHydzM"
      },
      "execution_count": null,
      "outputs": []
    },
    {
      "cell_type": "code",
      "source": [
        "lower_limit,upper_limit"
      ],
      "metadata": {
        "colab": {
          "base_uri": "https://localhost:8080/"
        },
        "id": "wuUIEfdayw3s",
        "outputId": "c7ddd03f-1377-4b27-cd33-f6134c699044"
      },
      "execution_count": null,
      "outputs": [
        {
          "output_type": "execute_result",
          "data": {
            "text/plain": [
              "(8638.925666842346, 8851.586434523668)"
            ]
          },
          "metadata": {},
          "execution_count": 87
        }
      ]
    },
    {
      "cell_type": "code",
      "source": [
        "lower_limit=np.mean(female_purchasers_sample_means)-np.std(female_purchasers_sample_means)/np.sqrt(1000)*1.96\n",
        "upper_limit=np.mean(female_purchasers_sample_means)+np.std(female_purchasers_sample_means)/np.sqrt(1000)*1.96"
      ],
      "metadata": {
        "id": "199iVtYpzbof"
      },
      "execution_count": null,
      "outputs": []
    },
    {
      "cell_type": "code",
      "source": [
        "lower_limit,upper_limit"
      ],
      "metadata": {
        "colab": {
          "base_uri": "https://localhost:8080/"
        },
        "id": "KIYFdMEYziAT",
        "outputId": "0e85f089-e2c8-46cd-e389-6ee2ab4a9e1c"
      },
      "execution_count": null,
      "outputs": [
        {
          "output_type": "execute_result",
          "data": {
            "text/plain": [
              "(8741.893588708843, 8748.61851265717)"
            ]
          },
          "metadata": {},
          "execution_count": 89
        }
      ]
    },
    {
      "cell_type": "markdown",
      "source": [
        "**The above one is from review class and I think its not correct as we are doing sqrt(n) as std deviation here is from sample means not from the population there is no need of doing it again**"
      ],
      "metadata": {
        "id": "bPyRI_B7z67_"
      }
    },
    {
      "cell_type": "code",
      "source": [
        "female_customers=walmart_df[walmart_df['Gender']=='F']"
      ],
      "metadata": {
        "id": "-_Uh5sXDREfO"
      },
      "execution_count": null,
      "outputs": []
    },
    {
      "cell_type": "code",
      "source": [
        "female_purchasers_cost_details=(female_customers['Purchase'])"
      ],
      "metadata": {
        "id": "WwFTCUsqQyyl"
      },
      "execution_count": null,
      "outputs": []
    },
    {
      "cell_type": "code",
      "source": [
        "size=1000\n",
        "female_purchasers_sample_means=np.zeros(size)\n",
        "for i in range(size):\n",
        "  bootstrapped_sample=female_purchasers_cost_details.sample(female_customers.shape[0],replace=True)\n",
        "  sample_mean=np.mean(bootstrapped_sample)\n",
        "  female_purchasers_sample_means[i]=sample_mean"
      ],
      "metadata": {
        "id": "-i3lPywOSzsR"
      },
      "execution_count": null,
      "outputs": []
    },
    {
      "cell_type": "code",
      "source": [
        "type(female_purchasers_cost_details)"
      ],
      "metadata": {
        "colab": {
          "base_uri": "https://localhost:8080/"
        },
        "id": "jS1Ffxo7gzI2",
        "outputId": "35d60dbb-b981-4d2c-b0f7-66702e521b5e"
      },
      "execution_count": null,
      "outputs": [
        {
          "output_type": "execute_result",
          "data": {
            "text/plain": [
              "pandas.core.frame.DataFrame"
            ]
          },
          "metadata": {},
          "execution_count": 31
        }
      ]
    },
    {
      "cell_type": "markdown",
      "source": [
        "**It doesnt matter whether it is df or series dataframe**"
      ],
      "metadata": {
        "id": "32P7H3MGhBqX"
      }
    },
    {
      "cell_type": "code",
      "source": [
        "confidence_interval=np.percentile(female_purchasers_sample_means,[2.5,97.5])\n",
        "print(confidence_interval)"
      ],
      "metadata": {
        "colab": {
          "base_uri": "https://localhost:8080/"
        },
        "id": "9lvMzxDiXZLv",
        "outputId": "1ffd59bb-db37-4b1f-a45f-a534715a560f"
      },
      "execution_count": null,
      "outputs": [
        {
          "output_type": "stream",
          "name": "stdout",
          "text": [
            "[8639.88345462 8853.95938657]\n"
          ]
        }
      ]
    },
    {
      "cell_type": "code",
      "source": [
        "# female_purchasers_sample_means"
      ],
      "metadata": {
        "id": "rmPFzn3ZyTzO"
      },
      "execution_count": null,
      "outputs": []
    },
    {
      "cell_type": "code",
      "source": [],
      "metadata": {
        "id": "9A3W7RsVyIJl"
      },
      "execution_count": null,
      "outputs": []
    },
    {
      "cell_type": "code",
      "source": [
        "plt.hist(female_purchasers_sample_means,bins=30,density=True)\n",
        "plt.axvline(x=confidence_interval[0],c='r')\n",
        "plt.axvline(x=confidence_interval[1],c='r')\n",
        "plt.show()"
      ],
      "metadata": {
        "colab": {
          "base_uri": "https://localhost:8080/",
          "height": 265
        },
        "id": "7nolk4WDX2dc",
        "outputId": "1fab4f1a-31a0-4efb-cdba-efc221d082d0"
      },
      "execution_count": null,
      "outputs": [
        {
          "output_type": "display_data",
          "data": {
            "text/plain": [
              "<Figure size 432x288 with 1 Axes>"
            ],
            "image/png": "[encoded data removed]"
          },
          "metadata": {
            "needs_background": "light"
          }
        }
      ]
    },
    {
      "cell_type": "markdown",
      "source": [
        "**So, with 95% confidence we can say the femal population mean of purchase is in between 8645 to 8842**"
      ],
      "metadata": {
        "id": "caM6zyMfai96"
      }
    },
    {
      "cell_type": "code",
      "source": [
        "# Male customers sample mean"
      ],
      "metadata": {
        "id": "cGsocSNdZzIa"
      },
      "execution_count": null,
      "outputs": []
    },
    {
      "cell_type": "code",
      "source": [
        "male_customers=walmart_df[walmart_df['Gender']=='M']"
      ],
      "metadata": {
        "id": "FQpNqxI-ZzIb"
      },
      "execution_count": null,
      "outputs": []
    },
    {
      "cell_type": "code",
      "source": [
        "male_purchasers_cost_details=(male_customers[['Purchase']])"
      ],
      "metadata": {
        "id": "F60DUqDkZzIc"
      },
      "execution_count": null,
      "outputs": []
    },
    {
      "cell_type": "code",
      "source": [
        "size=1000\n",
        "male_purchasers_sample_means=np.zeros(size)\n",
        "for i in range(size):\n",
        "  bootstrapped_sample=male_purchasers_cost_details.sample(male_customers.shape[0],replace=True)\n",
        "  sample_mean=np.mean(bootstrapped_sample)\n",
        "  male_purchasers_sample_means[i]=sample_mean"
      ],
      "metadata": {
        "id": "1D5rnY5BZzIc"
      },
      "execution_count": null,
      "outputs": []
    },
    {
      "cell_type": "code",
      "source": [
        "confidence_interval=np.percentile(male_purchasers_sample_means,[2.5,97.5])\n",
        "print(confidence_interval)"
      ],
      "metadata": {
        "colab": {
          "base_uri": "https://localhost:8080/"
        },
        "outputId": "e17e8dd2-74b7-42a4-d8e6-cdbad43a7b4e",
        "id": "TOBdCkrPZzId"
      },
      "execution_count": null,
      "outputs": [
        {
          "output_type": "stream",
          "name": "stdout",
          "text": [
            "[9361.96795445 9480.34845969]\n"
          ]
        }
      ]
    },
    {
      "cell_type": "code",
      "source": [
        "plt.hist(male_purchasers_sample_means,bins=30,density=True)\n",
        "plt.axvline(x=confidence_interval[0],c='r')\n",
        "plt.axvline(x=confidence_interval[1],c='r')\n",
        "plt.show()"
      ],
      "metadata": {
        "colab": {
          "base_uri": "https://localhost:8080/",
          "height": 265
        },
        "id": "ya0KopljaMeJ",
        "outputId": "faafb751-564d-461e-bb72-a36455abab93"
      },
      "execution_count": null,
      "outputs": [
        {
          "output_type": "display_data",
          "data": {
            "text/plain": [
              "<Figure size 432x288 with 1 Axes>"
            ],
            "image/png": "[encoded data removed]"
          },
          "metadata": {
            "needs_background": "light"
          }
        }
      ]
    },
    {
      "cell_type": "markdown",
      "source": [
        "**So, with 95% confidence we can say the femal population mean of purchase is in between 9364 to 9489**"
      ],
      "metadata": {
        "id": "KCRlySF1dG6J"
      }
    },
    {
      "cell_type": "code",
      "source": [
        "plt.hist(male_purchasers_sample_means,bins=30,density=True)\n",
        "\n",
        "plt.hist(female_purchasers_sample_means,bins=30,density=True)\n",
        "\n",
        "plt.show()"
      ],
      "metadata": {
        "colab": {
          "base_uri": "https://localhost:8080/",
          "height": 265
        },
        "outputId": "36704c28-b00b-4622-b8b0-8c933effdce0",
        "id": "AhZGIFHCZzIe"
      },
      "execution_count": null,
      "outputs": [
        {
          "output_type": "display_data",
          "data": {
            "text/plain": [
              "<Figure size 432x288 with 1 Axes>"
            ],
            "image/png": "[encoded data removed]"
          },
          "metadata": {
            "needs_background": "light"
          }
        }
      ]
    },
    {
      "cell_type": "code",
      "source": [],
      "metadata": {
        "id": "xlsxmqurqcpD"
      },
      "execution_count": null,
      "outputs": []
    },
    {
      "cell_type": "markdown",
      "source": [
        "**The confidence intervals are not overlapping and depicts women purchase is less compared to men and walmart has to improve products and services so that women purchase average will also increase**"
      ],
      "metadata": {
        "id": "k0TZ3KHidENf"
      }
    },
    {
      "cell_type": "markdown",
      "source": [
        "### Condfidence interval w.r.t Marital status"
      ],
      "metadata": {
        "id": "AdL2UZCHhhWf"
      }
    },
    {
      "cell_type": "code",
      "source": [
        "# w.r.t Marital status"
      ],
      "metadata": {
        "id": "NQrzeXuieNda"
      },
      "execution_count": null,
      "outputs": []
    },
    {
      "cell_type": "code",
      "source": [
        "# Unmarried customers sample mean"
      ],
      "metadata": {
        "id": "NdxaEJ_7eNyq"
      },
      "execution_count": null,
      "outputs": []
    },
    {
      "cell_type": "code",
      "source": [
        "unmarried_customers=walmart_df[walmart_df['Marital_Status']==0]"
      ],
      "metadata": {
        "id": "uW6dDwn2eNyr"
      },
      "execution_count": null,
      "outputs": []
    },
    {
      "cell_type": "code",
      "source": [
        "unmarried_purchasers_cost_details=(unmarried_customers['Purchase'])"
      ],
      "metadata": {
        "id": "DYbr8Hl3eNys"
      },
      "execution_count": null,
      "outputs": []
    },
    {
      "cell_type": "code",
      "source": [
        "size=1000\n",
        "unmarried_purchasers_sample_means=np.zeros(size)\n",
        "for i in range(size):\n",
        "  bootstrapped_sample=unmarried_purchasers_cost_details.sample(unmarried_customers.shape[0],replace=True)\n",
        "  sample_mean=np.mean(bootstrapped_sample)\n",
        "  unmarried_purchasers_sample_means[i]=sample_mean"
      ],
      "metadata": {
        "id": "af5LqEVteNyt"
      },
      "execution_count": null,
      "outputs": []
    },
    {
      "cell_type": "code",
      "source": [
        "confidence_interval=np.percentile(unmarried_purchasers_sample_means,[2.5,97.5])\n",
        "print(confidence_interval)"
      ],
      "metadata": {
        "colab": {
          "base_uri": "https://localhost:8080/"
        },
        "outputId": "be0adffb-a9b7-4cef-ff67-c1c762aaf4f2",
        "id": "vShk8BV2eNyt"
      },
      "execution_count": null,
      "outputs": [
        {
          "output_type": "stream",
          "name": "stdout",
          "text": [
            "[9167.77466615 9311.95469381]\n"
          ]
        }
      ]
    },
    {
      "cell_type": "code",
      "source": [
        "plt.hist(unmarried_purchasers_sample_means,bins=30,density=True)\n",
        "plt.axvline(x=confidence_interval[0],c='r')\n",
        "plt.axvline(x=confidence_interval[1],c='r')\n",
        "plt.show()"
      ],
      "metadata": {
        "colab": {
          "base_uri": "https://localhost:8080/",
          "height": 265
        },
        "outputId": "d90341ec-b692-4c72-d079-189deb3c3d30",
        "id": "Qdu_TeJLeNyu"
      },
      "execution_count": null,
      "outputs": [
        {
          "output_type": "display_data",
          "data": {
            "text/plain": [
              "<Figure size 432x288 with 1 Axes>"
            ],
            "image/png": "[encoded data removed]"
          },
          "metadata": {
            "needs_background": "light"
          }
        }
      ]
    },
    {
      "cell_type": "markdown",
      "source": [
        "**So, with 95% confidence we can say the unmarried population mean of purchase is in between 9174 to 9309**"
      ],
      "metadata": {
        "id": "wMfsut0GeNyx"
      }
    },
    {
      "cell_type": "code",
      "source": [
        "# married customers sample mean"
      ],
      "metadata": {
        "id": "5gC1-JRaeNyy"
      },
      "execution_count": null,
      "outputs": []
    },
    {
      "cell_type": "code",
      "source": [
        "married_customers=walmart_df[walmart_df['Marital_Status']==1]"
      ],
      "metadata": {
        "id": "StP-VZGgeNyy"
      },
      "execution_count": null,
      "outputs": []
    },
    {
      "cell_type": "code",
      "source": [
        "married_purchasers_cost_details=(married_customers['Purchase'])"
      ],
      "metadata": {
        "id": "RFGGv5dleNyz"
      },
      "execution_count": null,
      "outputs": []
    },
    {
      "cell_type": "code",
      "source": [
        "size=1000\n",
        "married_purchasers_sample_means=np.zeros(size)\n",
        "for i in range(size):\n",
        "  bootstrapped_sample=married_purchasers_cost_details.sample(married_customers.shape[0],replace=True)\n",
        "  sample_mean=np.mean(bootstrapped_sample)\n",
        "  married_purchasers_sample_means[i]=sample_mean"
      ],
      "metadata": {
        "id": "85w2GMINeNyz"
      },
      "execution_count": null,
      "outputs": []
    },
    {
      "cell_type": "code",
      "source": [
        "confidence_interval=np.percentile(married_purchasers_sample_means,[2.5,97.5])\n",
        "print(confidence_interval)"
      ],
      "metadata": {
        "colab": {
          "base_uri": "https://localhost:8080/"
        },
        "outputId": "843663c8-af8f-4d93-f70d-25d75475aacb",
        "id": "5oKDvDr9eNy0"
      },
      "execution_count": null,
      "outputs": [
        {
          "output_type": "stream",
          "name": "stdout",
          "text": [
            "[9220.92801037 9382.61772587]\n"
          ]
        }
      ]
    },
    {
      "cell_type": "code",
      "source": [
        "plt.hist(married_purchasers_sample_means,bins=30,density=True)\n",
        "plt.axvline(x=confidence_interval[0],c='r')\n",
        "plt.axvline(x=confidence_interval[1],c='r')\n",
        "plt.show()"
      ],
      "metadata": {
        "colab": {
          "base_uri": "https://localhost:8080/",
          "height": 265
        },
        "outputId": "1a0c2697-8de6-40b1-8223-5ebf971fbb9a",
        "id": "BiVwbF6aeNy0"
      },
      "execution_count": null,
      "outputs": [
        {
          "output_type": "display_data",
          "data": {
            "text/plain": [
              "<Figure size 432x288 with 1 Axes>"
            ],
            "image/png": "[encoded data removed]"
          },
          "metadata": {
            "needs_background": "light"
          }
        }
      ]
    },
    {
      "cell_type": "markdown",
      "source": [
        "**So, with 95% confidence we can say the married population mean of purchase is in between 9216 to 9380**"
      ],
      "metadata": {
        "id": "Ylo9AczpeNy1"
      }
    },
    {
      "cell_type": "code",
      "source": [
        "plt.hist(married_purchasers_sample_means,bins=30,density=True)\n",
        "\n",
        "plt.hist(unmarried_purchasers_sample_means,bins=30,density=True)\n",
        "\n",
        "plt.show()"
      ],
      "metadata": {
        "colab": {
          "base_uri": "https://localhost:8080/",
          "height": 265
        },
        "outputId": "1238b037-bc89-4c31-9501-555739440e1b",
        "id": "16ohh-I7eNy2"
      },
      "execution_count": null,
      "outputs": [
        {
          "output_type": "display_data",
          "data": {
            "text/plain": [
              "<Figure size 432x288 with 1 Axes>"
            ],
            "image/png": "[encoded data removed]"
          },
          "metadata": {
            "needs_background": "light"
          }
        }
      ]
    },
    {
      "cell_type": "markdown",
      "source": [
        "**The confidence intervals are overlapping and depicts married purchase is slightly more comapred to unmarried**"
      ],
      "metadata": {
        "id": "4QHDka7ZeNy2"
      }
    },
    {
      "cell_type": "markdown",
      "source": [
        "### Confidence interval w.r.t Age"
      ],
      "metadata": {
        "id": "TXNAKmwIhooY"
      }
    },
    {
      "cell_type": "code",
      "source": [
        "for j in sorted(walmart_df[\"Age\"].unique()):\n",
        "  customers=walmart_df[walmart_df['Age']==j]\n",
        "  customers_purchase_cost_details=customers['Purchase']\n",
        "  size=1000\n",
        "  customers_purchase_sample_means=np.zeros(size)\n",
        "  for i in range(size):\n",
        "    bootstrapped_sample=customers_purchase_cost_details.sample(customers.shape[0],replace=True)\n",
        "    sample_mean=np.mean(bootstrapped_sample)\n",
        "    customers_purchase_sample_means[i]=sample_mean\n",
        "\n",
        "  confidence_interval=np.percentile(customers_purchase_sample_means,[2.5,97.5])\n",
        "  print(confidence_interval)\n",
        "\n",
        "  plt.hist(customers_purchase_sample_means,bins=30,density=True)\n",
        "  plt.axvline(x=confidence_interval[0],c='r')\n",
        "  plt.axvline(x=confidence_interval[1],c='r')\n",
        "  plt.title('Customers_of_age_'+j)\n",
        "  plt.show()\n",
        "\n",
        "\n"
      ],
      "metadata": {
        "colab": {
          "base_uri": "https://localhost:8080/",
          "height": 1000
        },
        "id": "8jQshYZOnE_V",
        "outputId": "e31067a6-679f-473e-a42f-58b8a4190bc6"
      },
      "execution_count": null,
      "outputs": [
        {
          "output_type": "stream",
          "name": "stdout",
          "text": [
            "[8659.37726471 9325.99976471]\n"
          ]
        },
        {
          "output_type": "display_data",
          "data": {
            "text/plain": [
              "<Figure size 432x288 with 1 Axes>"
            ],
            "image/png": "[encoded data removed]"
          },
          "metadata": {
            "needs_background": "light"
          }
        },
        {
          "output_type": "stream",
          "name": "stdout",
          "text": [
            "[9012.60206359 9262.79524249]\n"
          ]
        },
        {
          "output_type": "display_data",
          "data": {
            "text/plain": [
              "<Figure size 432x288 with 1 Axes>"
            ],
            "image/png": "[encoded data removed]"
          },
          "metadata": {
            "needs_background": "light"
          }
        },
        {
          "output_type": "stream",
          "name": "stdout",
          "text": [
            "[9162.75099185 9333.09113366]\n"
          ]
        },
        {
          "output_type": "display_data",
          "data": {
            "text/plain": [
              "<Figure size 432x288 with 1 Axes>"
            ],
            "image/png": "[encoded data removed]"
          },
          "metadata": {
            "needs_background": "light"
          }
        },
        {
          "output_type": "stream",
          "name": "stdout",
          "text": [
            "[9250.71810483 9486.02968682]\n"
          ]
        },
        {
          "output_type": "display_data",
          "data": {
            "text/plain": [
              "<Figure size 432x288 with 1 Axes>"
            ],
            "image/png": "[encoded data removed]"
          },
          "metadata": {
            "needs_background": "light"
          }
        },
        {
          "output_type": "stream",
          "name": "stdout",
          "text": [
            "[8961.16722344 9319.6207375 ]\n"
          ]
        },
        {
          "output_type": "display_data",
          "data": {
            "text/plain": [
              "<Figure size 432x288 with 1 Axes>"
            ],
            "image/png": "[encoded data removed]"
          },
          "metadata": {
            "needs_background": "light"
          }
        },
        {
          "output_type": "stream",
          "name": "stdout",
          "text": [
            "[9346.42368584 9755.76779801]\n"
          ]
        },
        {
          "output_type": "display_data",
          "data": {
            "text/plain": [
              "<Figure size 432x288 with 1 Axes>"
            ],
            "image/png": "[encoded data removed]"
          },
          "metadata": {
            "needs_background": "light"
          }
        },
        {
          "output_type": "stream",
          "name": "stdout",
          "text": [
            "[9139.44654914 9640.07473743]\n"
          ]
        },
        {
          "output_type": "display_data",
          "data": {
            "text/plain": [
              "<Figure size 432x288 with 1 Axes>"
            ],
            "image/png": "[encoded data removed]"
          },
          "metadata": {
            "needs_background": "light"
          }
        }
      ]
    },
    {
      "cell_type": "markdown",
      "source": [
        "**Here, w.r.t ages the distribution is overlapping and the age group of 0-17 is having higher dispersion and having the low extreme of 8660 where as age group of 51-55 is having the higher extreme of 9757**"
      ],
      "metadata": {
        "id": "o_QMqGZhh3Wg"
      }
    },
    {
      "cell_type": "markdown",
      "source": [
        "##5.Final Insights"
      ],
      "metadata": {
        "id": "SXFvsV1fdNrK"
      }
    },
    {
      "cell_type": "markdown",
      "source": [
        "**1. The average purchase cost is approximated to normal distribution and it follows the same almost with every category or variable.**\n",
        "\n",
        "**2. In Gender category male are purchasing more than female with a confidence level of 95 % on the population.**\n",
        "\n",
        "**3. In Maritatl status category also the married average purchase is slightly more and while predicting the average purchase on population with a 95 % confidence interval it is overlapping with unmarried average purchase. So, there is no much variation in this category.**\n",
        "\n",
        "**4. In Age category, the 51-55 is having higher average purchase.**\n"
      ],
      "metadata": {
        "id": "asbKG6F_dygg"
      }
    },
    {
      "cell_type": "markdown",
      "source": [
        "##6. Recommendations"
      ],
      "metadata": {
        "id": "SCDZMym2hjFD"
      }
    },
    {
      "cell_type": "markdown",
      "source": [
        "**1. With the analysis we can find that women purchase is lesser and if we bring out the new products or variants, purchase sale can be increased**\n",
        "\n",
        "**2. In the same way if we increase the variety of the products sale in the respective age group, their average purchase can also be increased**\n",
        "\n",
        "**3. One major recommendation is to increase the price of the product slightly that is having highest sale and decrease the prices of the products that are high in price so that the net purchase will be high**"
      ],
      "metadata": {
        "id": "jLpz0gV-hmOO"
      }
    },
    {
      "cell_type": "markdown",
      "source": [
        "## Extra"
      ],
      "metadata": {
        "id": "MDYEXxi-BNSt"
      }
    },
    {
      "cell_type": "code",
      "source": [
        "walmart_df.groupby(['Age','Gender','Product_Category','Occupation','Marital_Status','Stay_In_Current_City_Years','City_Category'],as_index=False)['Purchase'].count().sort_values('Purchase',ascending=False)"
      ],
      "metadata": {
        "colab": {
          "base_uri": "https://localhost:8080/",
          "height": 423
        },
        "id": "14YxdAPYkvyG",
        "outputId": "e8e5f1d5-2a12-40f9-9368-aac5c89bb16e"
      },
      "execution_count": null,
      "outputs": [
        {
          "output_type": "execute_result",
          "data": {
            "text/plain": [
              "          Age Gender Product_Category Occupation Marital_Status  \\\n",
              "36664   18-25      M              5.0        4.0            0.0   \n",
              "34144   18-25      M              1.0        4.0            0.0   \n",
              "36673   18-25      M              5.0        4.0            0.0   \n",
              "56704   26-35      M              1.0        0.0            0.0   \n",
              "56705   26-35      M              1.0        0.0            0.0   \n",
              "...       ...    ...              ...        ...            ...   \n",
              "53388   26-35      F             13.0       15.0            1.0   \n",
              "53389   26-35      F             13.0       15.0            1.0   \n",
              "53390   26-35      F             13.0       15.0            1.0   \n",
              "53391   26-35      F             13.0       15.0            1.0   \n",
              "158759    55+      M             18.0       20.0            1.0   \n",
              "\n",
              "       Stay_In_Current_City_Years City_Category  Purchase  \n",
              "36664                           1             B        76  \n",
              "34144                           1             B        63  \n",
              "36673                          4+             B        62  \n",
              "56704                           1             B        56  \n",
              "56705                           1             C        53  \n",
              "...                           ...           ...       ...  \n",
              "53388                           1             A         0  \n",
              "53389                           1             B         0  \n",
              "53390                           1             C         0  \n",
              "53391                           2             A         0  \n",
              "158759                         4+             C         0  \n",
              "\n",
              "[158760 rows x 8 columns]"
            ],
            "text/html": [
              "\n",
              "  <div id=\"df-342552d4-1ca6-4a9f-85ba-5ac33a745e63\">\n",
              "    <div class=\"colab-df-container\">\n",
              "      <div>\n",
              "<style scoped>\n",
              "    .dataframe tbody tr th:only-of-type {\n",
              "        vertical-align: middle;\n",
              "    }\n",
              "\n",
              "    .dataframe tbody tr th {\n",
              "        vertical-align: top;\n",
              "    }\n",
              "\n",
              "    .dataframe thead th {\n",
              "        text-align: right;\n",
              "    }\n",
              "</style>\n",
              "<table border=\"1\" class=\"dataframe\">\n",
              "  <thead>\n",
              "    <tr style=\"text-align: right;\">\n",
              "      <th></th>\n",
              "      <th>Age</th>\n",
              "      <th>Gender</th>\n",
              "      <th>Product_Category</th>\n",
              "      <th>Occupation</th>\n",
              "      <th>Marital_Status</th>\n",
              "      <th>Stay_In_Current_City_Years</th>\n",
              "      <th>City_Category</th>\n",
              "      <th>Purchase</th>\n",
              "    </tr>\n",
              "  </thead>\n",
              "  <tbody>\n",
              "    <tr>\n",
              "      <th>36664</th>\n",
              "      <td>18-25</td>\n",
              "      <td>M</td>\n",
              "      <td>5.0</td>\n",
              "      <td>4.0</td>\n",
              "      <td>0.0</td>\n",
              "      <td>1</td>\n",
              "      <td>B</td>\n",
              "      <td>76</td>\n",
              "    </tr>\n",
              "    <tr>\n",
              "      <th>34144</th>\n",
              "      <td>18-25</td>\n",
              "      <td>M</td>\n",
              "      <td>1.0</td>\n",
              "      <td>4.0</td>\n",
              "      <td>0.0</td>\n",
              "      <td>1</td>\n",
              "      <td>B</td>\n",
              "      <td>63</td>\n",
              "    </tr>\n",
              "    <tr>\n",
              "      <th>36673</th>\n",
              "      <td>18-25</td>\n",
              "      <td>M</td>\n",
              "      <td>5.0</td>\n",
              "      <td>4.0</td>\n",
              "      <td>0.0</td>\n",
              "      <td>4+</td>\n",
              "      <td>B</td>\n",
              "      <td>62</td>\n",
              "    </tr>\n",
              "    <tr>\n",
              "      <th>56704</th>\n",
              "      <td>26-35</td>\n",
              "      <td>M</td>\n",
              "      <td>1.0</td>\n",
              "      <td>0.0</td>\n",
              "      <td>0.0</td>\n",
              "      <td>1</td>\n",
              "      <td>B</td>\n",
              "      <td>56</td>\n",
              "    </tr>\n",
              "    <tr>\n",
              "      <th>56705</th>\n",
              "      <td>26-35</td>\n",
              "      <td>M</td>\n",
              "      <td>1.0</td>\n",
              "      <td>0.0</td>\n",
              "      <td>0.0</td>\n",
              "      <td>1</td>\n",
              "      <td>C</td>\n",
              "      <td>53</td>\n",
              "    </tr>\n",
              "    <tr>\n",
              "      <th>...</th>\n",
              "      <td>...</td>\n",
              "      <td>...</td>\n",
              "      <td>...</td>\n",
              "      <td>...</td>\n",
              "      <td>...</td>\n",
              "      <td>...</td>\n",
              "      <td>...</td>\n",
              "      <td>...</td>\n",
              "    </tr>\n",
              "    <tr>\n",
              "      <th>53388</th>\n",
              "      <td>26-35</td>\n",
              "      <td>F</td>\n",
              "      <td>13.0</td>\n",
              "      <td>15.0</td>\n",
              "      <td>1.0</td>\n",
              "      <td>1</td>\n",
              "      <td>A</td>\n",
              "      <td>0</td>\n",
              "    </tr>\n",
              "    <tr>\n",
              "      <th>53389</th>\n",
              "      <td>26-35</td>\n",
              "      <td>F</td>\n",
              "      <td>13.0</td>\n",
              "      <td>15.0</td>\n",
              "      <td>1.0</td>\n",
              "      <td>1</td>\n",
              "      <td>B</td>\n",
              "      <td>0</td>\n",
              "    </tr>\n",
              "    <tr>\n",
              "      <th>53390</th>\n",
              "      <td>26-35</td>\n",
              "      <td>F</td>\n",
              "      <td>13.0</td>\n",
              "      <td>15.0</td>\n",
              "      <td>1.0</td>\n",
              "      <td>1</td>\n",
              "      <td>C</td>\n",
              "      <td>0</td>\n",
              "    </tr>\n",
              "    <tr>\n",
              "      <th>53391</th>\n",
              "      <td>26-35</td>\n",
              "      <td>F</td>\n",
              "      <td>13.0</td>\n",
              "      <td>15.0</td>\n",
              "      <td>1.0</td>\n",
              "      <td>2</td>\n",
              "      <td>A</td>\n",
              "      <td>0</td>\n",
              "    </tr>\n",
              "    <tr>\n",
              "      <th>158759</th>\n",
              "      <td>55+</td>\n",
              "      <td>M</td>\n",
              "      <td>18.0</td>\n",
              "      <td>20.0</td>\n",
              "      <td>1.0</td>\n",
              "      <td>4+</td>\n",
              "      <td>C</td>\n",
              "      <td>0</td>\n",
              "    </tr>\n",
              "  </tbody>\n",
              "</table>\n",
              "<p>158760 rows × 8 columns</p>\n",
              "</div>\n",
              "      <button class=\"colab-df-convert\" onclick=\"convertToInteractive('df-342552d4-1ca6-4a9f-85ba-5ac33a745e63')\"\n",
              "              title=\"Convert this dataframe to an interactive table.\"\n",
              "              style=\"display:none;\">\n",
              "        \n",
              "  <svg xmlns=\"http://www.w3.org/2000/svg\" height=\"24px\"viewBox=\"0 0 24 24\"\n",
              "       width=\"24px\">\n",
              "    <path d=\"M0 0h24v24H0V0z\" fill=\"none\"/>\n",
              "    <path d=\"M18.56 5.44l.94 2.06.94-2.06 2.06-.94-2.06-.94-.94-2.06-.94 2.06-2.06.94zm-11 1L8.5 8.5l.94-2.06 2.06-.94-2.06-.94L8.5 2.5l-.94 2.06-2.06.94zm10 10l.94 2.06.94-2.06 2.06-.94-2.06-.94-.94-2.06-.94 2.06-2.06.94z\"/><path d=\"M17.41 7.96l-1.37-1.37c-.4-.4-.92-.59-1.43-.59-.52 0-1.04.2-1.43.59L10.3 9.45l-7.72 7.72c-.78.78-.78 2.05 0 2.83L4 21.41c.39.39.9.59 1.41.59.51 0 1.02-.2 1.41-.59l7.78-7.78 2.81-2.81c.8-.78.8-2.07 0-2.86zM5.41 20L4 18.59l7.72-7.72 1.47 1.35L5.41 20z\"/>\n",
              "  </svg>\n",
              "      </button>\n",
              "      \n",
              "  <style>\n",
              "    .colab-df-container {\n",
              "      display:flex;\n",
              "      flex-wrap:wrap;\n",
              "      gap: 12px;\n",
              "    }\n",
              "\n",
              "    .colab-df-convert {\n",
              "      background-color: #E8F0FE;\n",
              "      border: none;\n",
              "      border-radius: 50%;\n",
              "      cursor: pointer;\n",
              "      display: none;\n",
              "      fill: #1967D2;\n",
              "      height: 32px;\n",
              "      padding: 0 0 0 0;\n",
              "      width: 32px;\n",
              "    }\n",
              "\n",
              "    .colab-df-convert:hover {\n",
              "      background-color: #E2EBFA;\n",
              "      box-shadow: 0px 1px 2px rgba(60, 64, 67, 0.3), 0px 1px 3px 1px rgba(60, 64, 67, 0.15);\n",
              "      fill: #174EA6;\n",
              "    }\n",
              "\n",
              "    [theme=dark] .colab-df-convert {\n",
              "      background-color: #3B4455;\n",
              "      fill: #D2E3FC;\n",
              "    }\n",
              "\n",
              "    [theme=dark] .colab-df-convert:hover {\n",
              "      background-color: #434B5C;\n",
              "      box-shadow: 0px 1px 3px 1px rgba(0, 0, 0, 0.15);\n",
              "      filter: drop-shadow(0px 1px 2px rgba(0, 0, 0, 0.3));\n",
              "      fill: #FFFFFF;\n",
              "    }\n",
              "  </style>\n",
              "\n",
              "      <script>\n",
              "        const buttonEl =\n",
              "          document.querySelector('#df-342552d4-1ca6-4a9f-85ba-5ac33a745e63 button.colab-df-convert');\n",
              "        buttonEl.style.display =\n",
              "          google.colab.kernel.accessAllowed ? 'block' : 'none';\n",
              "\n",
              "        async function convertToInteractive(key) {\n",
              "          const element = document.querySelector('#df-342552d4-1ca6-4a9f-85ba-5ac33a745e63');\n",
              "          const dataTable =\n",
              "            await google.colab.kernel.invokeFunction('convertToInteractive',\n",
              "                                                     [key], {});\n",
              "          if (!dataTable) return;\n",
              "\n",
              "          const docLinkHtml = 'Like what you see? Visit the ' +\n",
              "            '<a target=\"_blank\" href=https://colab.research.google.com/notebooks/data_table.ipynb>data table notebook</a>'\n",
              "            + ' to learn more about interactive tables.';\n",
              "          element.innerHTML = '';\n",
              "          dataTable['output_type'] = 'display_data';\n",
              "          await google.colab.output.renderOutput(dataTable, element);\n",
              "          const docLink = document.createElement('div');\n",
              "          docLink.innerHTML = docLinkHtml;\n",
              "          element.appendChild(docLink);\n",
              "        }\n",
              "      </script>\n",
              "    </div>\n",
              "  </div>\n",
              "  "
            ]
          },
          "metadata": {},
          "execution_count": 48
        }
      ]
    },
    {
      "cell_type": "code",
      "source": [
        "\n",
        "walmart_df.groupby(['Age','Gender','Product_Category','Occupation','Marital_Status','Stay_In_Current_City_Years','City_Category'],as_index=False)['Purchase'].mean().sort_values('Purchase',ascending=False)"
      ],
      "metadata": {
        "colab": {
          "base_uri": "https://localhost:8080/",
          "height": 423
        },
        "id": "Klo8FphgfZhj",
        "outputId": "69f9bbd7-a17c-41b5-e431-66c22f4eff06",
        "collapsed": true
      },
      "execution_count": null,
      "outputs": [
        {
          "output_type": "execute_result",
          "data": {
            "text/plain": [
              "          Age Gender Product_Category Occupation Marital_Status  \\\n",
              "153110    55+      M             10.0        0.0            1.0   \n",
              "62738   26-35      M             10.0       12.0            0.0   \n",
              "62383   26-35      M             10.0        0.0            0.0   \n",
              "85400   36-45      M             10.0       11.0            1.0   \n",
              "62808   26-35      M             10.0       14.0            1.0   \n",
              "...       ...    ...              ...        ...            ...   \n",
              "158755    55+      M             18.0       20.0            1.0   \n",
              "158756    55+      M             18.0       20.0            1.0   \n",
              "158757    55+      M             18.0       20.0            1.0   \n",
              "158758    55+      M             18.0       20.0            1.0   \n",
              "158759    55+      M             18.0       20.0            1.0   \n",
              "\n",
              "       Stay_In_Current_City_Years City_Category  Purchase  \n",
              "153110                          1             C   23958.0  \n",
              "62738                           2             C   23956.0  \n",
              "62383                          4+             B   23948.0  \n",
              "85400                           1             C   23919.0  \n",
              "62808                           1             A   23913.0  \n",
              "...                           ...           ...       ...  \n",
              "158755                          3             B       NaN  \n",
              "158756                          3             C       NaN  \n",
              "158757                         4+             A       NaN  \n",
              "158758                         4+             B       NaN  \n",
              "158759                         4+             C       NaN  \n",
              "\n",
              "[158760 rows x 8 columns]"
            ],
            "text/html": [
              "\n",
              "  <div id=\"df-b7f292e8-570d-438c-bba0-718501f1fbb3\">\n",
              "    <div class=\"colab-df-container\">\n",
              "      <div>\n",
              "<style scoped>\n",
              "    .dataframe tbody tr th:only-of-type {\n",
              "        vertical-align: middle;\n",
              "    }\n",
              "\n",
              "    .dataframe tbody tr th {\n",
              "        vertical-align: top;\n",
              "    }\n",
              "\n",
              "    .dataframe thead th {\n",
              "        text-align: right;\n",
              "    }\n",
              "</style>\n",
              "<table border=\"1\" class=\"dataframe\">\n",
              "  <thead>\n",
              "    <tr style=\"text-align: right;\">\n",
              "      <th></th>\n",
              "      <th>Age</th>\n",
              "      <th>Gender</th>\n",
              "      <th>Product_Category</th>\n",
              "      <th>Occupation</th>\n",
              "      <th>Marital_Status</th>\n",
              "      <th>Stay_In_Current_City_Years</th>\n",
              "      <th>City_Category</th>\n",
              "      <th>Purchase</th>\n",
              "    </tr>\n",
              "  </thead>\n",
              "  <tbody>\n",
              "    <tr>\n",
              "      <th>153110</th>\n",
              "      <td>55+</td>\n",
              "      <td>M</td>\n",
              "      <td>10.0</td>\n",
              "      <td>0.0</td>\n",
              "      <td>1.0</td>\n",
              "      <td>1</td>\n",
              "      <td>C</td>\n",
              "      <td>23958.0</td>\n",
              "    </tr>\n",
              "    <tr>\n",
              "      <th>62738</th>\n",
              "      <td>26-35</td>\n",
              "      <td>M</td>\n",
              "      <td>10.0</td>\n",
              "      <td>12.0</td>\n",
              "      <td>0.0</td>\n",
              "      <td>2</td>\n",
              "      <td>C</td>\n",
              "      <td>23956.0</td>\n",
              "    </tr>\n",
              "    <tr>\n",
              "      <th>62383</th>\n",
              "      <td>26-35</td>\n",
              "      <td>M</td>\n",
              "      <td>10.0</td>\n",
              "      <td>0.0</td>\n",
              "      <td>0.0</td>\n",
              "      <td>4+</td>\n",
              "      <td>B</td>\n",
              "      <td>23948.0</td>\n",
              "    </tr>\n",
              "    <tr>\n",
              "      <th>85400</th>\n",
              "      <td>36-45</td>\n",
              "      <td>M</td>\n",
              "      <td>10.0</td>\n",
              "      <td>11.0</td>\n",
              "      <td>1.0</td>\n",
              "      <td>1</td>\n",
              "      <td>C</td>\n",
              "      <td>23919.0</td>\n",
              "    </tr>\n",
              "    <tr>\n",
              "      <th>62808</th>\n",
              "      <td>26-35</td>\n",
              "      <td>M</td>\n",
              "      <td>10.0</td>\n",
              "      <td>14.0</td>\n",
              "      <td>1.0</td>\n",
              "      <td>1</td>\n",
              "      <td>A</td>\n",
              "      <td>23913.0</td>\n",
              "    </tr>\n",
              "    <tr>\n",
              "      <th>...</th>\n",
              "      <td>...</td>\n",
              "      <td>...</td>\n",
              "      <td>...</td>\n",
              "      <td>...</td>\n",
              "      <td>...</td>\n",
              "      <td>...</td>\n",
              "      <td>...</td>\n",
              "      <td>...</td>\n",
              "    </tr>\n",
              "    <tr>\n",
              "      <th>158755</th>\n",
              "      <td>55+</td>\n",
              "      <td>M</td>\n",
              "      <td>18.0</td>\n",
              "      <td>20.0</td>\n",
              "      <td>1.0</td>\n",
              "      <td>3</td>\n",
              "      <td>B</td>\n",
              "      <td>NaN</td>\n",
              "    </tr>\n",
              "    <tr>\n",
              "      <th>158756</th>\n",
              "      <td>55+</td>\n",
              "      <td>M</td>\n",
              "      <td>18.0</td>\n",
              "      <td>20.0</td>\n",
              "      <td>1.0</td>\n",
              "      <td>3</td>\n",
              "      <td>C</td>\n",
              "      <td>NaN</td>\n",
              "    </tr>\n",
              "    <tr>\n",
              "      <th>158757</th>\n",
              "      <td>55+</td>\n",
              "      <td>M</td>\n",
              "      <td>18.0</td>\n",
              "      <td>20.0</td>\n",
              "      <td>1.0</td>\n",
              "      <td>4+</td>\n",
              "      <td>A</td>\n",
              "      <td>NaN</td>\n",
              "    </tr>\n",
              "    <tr>\n",
              "      <th>158758</th>\n",
              "      <td>55+</td>\n",
              "      <td>M</td>\n",
              "      <td>18.0</td>\n",
              "      <td>20.0</td>\n",
              "      <td>1.0</td>\n",
              "      <td>4+</td>\n",
              "      <td>B</td>\n",
              "      <td>NaN</td>\n",
              "    </tr>\n",
              "    <tr>\n",
              "      <th>158759</th>\n",
              "      <td>55+</td>\n",
              "      <td>M</td>\n",
              "      <td>18.0</td>\n",
              "      <td>20.0</td>\n",
              "      <td>1.0</td>\n",
              "      <td>4+</td>\n",
              "      <td>C</td>\n",
              "      <td>NaN</td>\n",
              "    </tr>\n",
              "  </tbody>\n",
              "</table>\n",
              "<p>158760 rows × 8 columns</p>\n",
              "</div>\n",
              "      <button class=\"colab-df-convert\" onclick=\"convertToInteractive('df-b7f292e8-570d-438c-bba0-718501f1fbb3')\"\n",
              "              title=\"Convert this dataframe to an interactive table.\"\n",
              "              style=\"display:none;\">\n",
              "        \n",
              "  <svg xmlns=\"http://www.w3.org/2000/svg\" height=\"24px\"viewBox=\"0 0 24 24\"\n",
              "       width=\"24px\">\n",
              "    <path d=\"M0 0h24v24H0V0z\" fill=\"none\"/>\n",
              "    <path d=\"M18.56 5.44l.94 2.06.94-2.06 2.06-.94-2.06-.94-.94-2.06-.94 2.06-2.06.94zm-11 1L8.5 8.5l.94-2.06 2.06-.94-2.06-.94L8.5 2.5l-.94 2.06-2.06.94zm10 10l.94 2.06.94-2.06 2.06-.94-2.06-.94-.94-2.06-.94 2.06-2.06.94z\"/><path d=\"M17.41 7.96l-1.37-1.37c-.4-.4-.92-.59-1.43-.59-.52 0-1.04.2-1.43.59L10.3 9.45l-7.72 7.72c-.78.78-.78 2.05 0 2.83L4 21.41c.39.39.9.59 1.41.59.51 0 1.02-.2 1.41-.59l7.78-7.78 2.81-2.81c.8-.78.8-2.07 0-2.86zM5.41 20L4 18.59l7.72-7.72 1.47 1.35L5.41 20z\"/>\n",
              "  </svg>\n",
              "      </button>\n",
              "      \n",
              "  <style>\n",
              "    .colab-df-container {\n",
              "      display:flex;\n",
              "      flex-wrap:wrap;\n",
              "      gap: 12px;\n",
              "    }\n",
              "\n",
              "    .colab-df-convert {\n",
              "      background-color: #E8F0FE;\n",
              "      border: none;\n",
              "      border-radius: 50%;\n",
              "      cursor: pointer;\n",
              "      display: none;\n",
              "      fill: #1967D2;\n",
              "      height: 32px;\n",
              "      padding: 0 0 0 0;\n",
              "      width: 32px;\n",
              "    }\n",
              "\n",
              "    .colab-df-convert:hover {\n",
              "      background-color: #E2EBFA;\n",
              "      box-shadow: 0px 1px 2px rgba(60, 64, 67, 0.3), 0px 1px 3px 1px rgba(60, 64, 67, 0.15);\n",
              "      fill: #174EA6;\n",
              "    }\n",
              "\n",
              "    [theme=dark] .colab-df-convert {\n",
              "      background-color: #3B4455;\n",
              "      fill: #D2E3FC;\n",
              "    }\n",
              "\n",
              "    [theme=dark] .colab-df-convert:hover {\n",
              "      background-color: #434B5C;\n",
              "      box-shadow: 0px 1px 3px 1px rgba(0, 0, 0, 0.15);\n",
              "      filter: drop-shadow(0px 1px 2px rgba(0, 0, 0, 0.3));\n",
              "      fill: #FFFFFF;\n",
              "    }\n",
              "  </style>\n",
              "\n",
              "      <script>\n",
              "        const buttonEl =\n",
              "          document.querySelector('#df-b7f292e8-570d-438c-bba0-718501f1fbb3 button.colab-df-convert');\n",
              "        buttonEl.style.display =\n",
              "          google.colab.kernel.accessAllowed ? 'block' : 'none';\n",
              "\n",
              "        async function convertToInteractive(key) {\n",
              "          const element = document.querySelector('#df-b7f292e8-570d-438c-bba0-718501f1fbb3');\n",
              "          const dataTable =\n",
              "            await google.colab.kernel.invokeFunction('convertToInteractive',\n",
              "                                                     [key], {});\n",
              "          if (!dataTable) return;\n",
              "\n",
              "          const docLinkHtml = 'Like what you see? Visit the ' +\n",
              "            '<a target=\"_blank\" href=https://colab.research.google.com/notebooks/data_table.ipynb>data table notebook</a>'\n",
              "            + ' to learn more about interactive tables.';\n",
              "          element.innerHTML = '';\n",
              "          dataTable['output_type'] = 'display_data';\n",
              "          await google.colab.output.renderOutput(dataTable, element);\n",
              "          const docLink = document.createElement('div');\n",
              "          docLink.innerHTML = docLinkHtml;\n",
              "          element.appendChild(docLink);\n",
              "        }\n",
              "      </script>\n",
              "    </div>\n",
              "  </div>\n",
              "  "
            ]
          },
          "metadata": {},
          "execution_count": 49
        }
      ]
    },
    {
      "cell_type": "markdown",
      "source": [
        "**From the above table it is clear that 55+ age of male customers who are married and living in city catgeory C by buying product category 10 is having highest mean. So if we bring up new variants in this specific catgeory we can increase sale further**"
      ],
      "metadata": {
        "id": "DJ_YLFN2k-gI"
      }
    }
  ]
}